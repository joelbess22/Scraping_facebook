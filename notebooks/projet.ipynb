{
 "cells": [
  {
   "cell_type": "code",
   "execution_count": 2,
   "metadata": {},
   "outputs": [
    {
     "name": "stderr",
     "output_type": "stream",
     "text": [
      "/usr/lib/python3/dist-packages/requests/__init__.py:89: RequestsDependencyWarning: urllib3 (1.26.14) or chardet (3.0.4) doesn't match a supported version!\n",
      "  warnings.warn(\"urllib3 ({}) or chardet ({}) doesn't match a supported \"\n",
      "/home/joelbess/.local/lib/python3.8/site-packages/tqdm/auto.py:22: TqdmWarning: IProgress not found. Please update jupyter and ipywidgets. See https://ipywidgets.readthedocs.io/en/stable/user_install.html\n",
      "  from .autonotebook import tqdm as notebook_tqdm\n"
     ]
    }
   ],
   "source": [
    "from selenium import webdriver\n",
    "from webdriver_manager.chrome import ChromeDriverManager\n",
    "from time import sleep\n",
    "from parsel import Selector\n",
    "from selenium.webdriver.common.keys import Keys\n",
    "from selenium.webdriver.common.by import By\n",
    "from facebook_scraper import get_posts ,get_posts_by_search\n",
    "from multiprocessing import Pool, cpu_count\n",
    "import re\n",
    "from requests import get\n",
    "import pandas as pd\n",
    "import numpy as np \n",
    "import time\n",
    "import os\n",
    "from selenium.webdriver.common.desired_capabilities import DesiredCapabilities\n",
    "from fake_useragent import UserAgent\n",
    "import pandas as pd\n",
    "import numpy as np\n",
    "from datetime import datetime"
   ]
  },
  {
   "cell_type": "code",
   "execution_count": 3,
   "metadata": {},
   "outputs": [],
   "source": [
    "def typeMaison(publication,bag_app,bag_mais):\n",
    "     dicoType={}\n",
    "     count=1\n",
    "     for word in publication:\n",
    "        if word in bag_app:\n",
    "            dicoType[count]='appartement'\n",
    "            count=count+1  \n",
    "        elif word in bag_mais:\n",
    "            dicoType[count]='maison Individuel'\n",
    "            count=count+1  \n",
    "     return dicoType"
   ]
  },
  {
   "cell_type": "code",
   "execution_count": 4,
   "metadata": {},
   "outputs": [],
   "source": [
    "\n",
    "def check(post_elmt):\n",
    "    post_elmt.replace(\".\",\"\")\n",
    "    post_elmt = re.findall(\"\\d+\", post_elmt)\n",
    "    if len(post_elmt) != 0 :\n",
    "        post_elmt = post_elmt[0]  \n",
    "        return post_elmt\n",
    "    return 0\n",
    "\n",
    "def montant_loyer_piece(sac_mot, post):\n",
    "    dico_montant = {}\n",
    "    post_suiv = \"\"\n",
    "    cpt=0\n",
    "    for i in range(0,len(post)):\n",
    "        loyer=0\n",
    "        if post[i] in sac_mot:\n",
    "            # break\n",
    "            post_pred = post[i-1]\n",
    "            if i != (len(post)-1):\n",
    "                post_suiv = post[i+1]\n",
    "            loyer = check(post_pred)\n",
    "            if loyer!=0:\n",
    "                    cpt+=1\n",
    "                    dico_montant[cpt]= loyer\n",
    "            if i != (len(post)-1):        \n",
    "                if ((loyer == 0) and (i != (len(post)-2))):\n",
    "                    loyer = check(post[i+1])\n",
    "                    if loyer!=0:\n",
    "                        cpt+=1\n",
    "                        dico_montant[cpt]= loyer\n",
    "            \n",
    "        if loyer==0:\n",
    "            val=re.findall(\"[a-zA-Z]+\", post[i])\n",
    "            if len(val)!=0:\n",
    "                if val[0].upper() in sac_mot:\n",
    "                    loyer= check(post[i])\n",
    "                    if loyer!=0:\n",
    "                        cpt=cpt+1\n",
    "                        dico_montant[cpt]= loyer\n",
    "\n",
    "    return dico_montant\n"
   ]
  },
  {
   "cell_type": "code",
   "execution_count": 5,
   "metadata": {},
   "outputs": [],
   "source": [
    "def standing(sac,eco,haut,moyen):\n",
    "    dicoStanding = dict()\n",
    "    k = 1\n",
    "    for i in sac:\n",
    "        if i in eco:\n",
    "            dicoStanding[k] = \"econonmique\"\n",
    "            k += 1\n",
    "            continue\n",
    "        if i in haut:\n",
    "            dicoStanding[k] = \"haut\"\n",
    "            k += 1\n",
    "            continue\n",
    "        if i in moyen:\n",
    "            dicoStanding[k] = \"moyen\"\n",
    "            k += 1     \n",
    "    return dicoStanding"
   ]
  },
  {
   "cell_type": "code",
   "execution_count": 6,
   "metadata": {},
   "outputs": [],
   "source": [
    "immeuble_sac_mot =['REZ','APPARTEMENT','BALCON','APPARTEMENTS','APARTEMENT','APARTEMENTS', \n",
    "           'APPATEMENT','APPATEMENTS', 'APPAT', 'APPATS','IMMEUBLE',\n",
    "           'IMMEUBLES','IMEUBLE','IMMEBLE',  'IMMEBLES','IMEBLE', 'IMEBLES','1ER','2EM','ETAGE']\n",
    "villa_sac_mot=[\"VILLA\",\"BASSE\",\"VILA\",'VILLAS','VILAS']\n",
    "piece_sac_mot=[\"PIECE\",\"PIECES\",\"PIEC\",'PCS']\n",
    "montant_loyer_sac_mot = [\"PRIX\",\"LOYER\", \"FCFA\",\"F\",\"CFA\",\"FR\",\"MIL\",\"MILLE\",\"MILLES\",'XOF','FA','€','$']\n",
    "motCleLocationValide=[\"LOYER\",\"LOUER\",\"LOUE\",\"LOU\",\"LOCATION\",\"LOCASSION\",\"LOCASION\",\"VISITE\",\"CAUTION\",\"CAUSION\",\"CAUSSION\",\"COSION\",\"COSSION\"]\n",
    "motCleLocationExclu=[\"VENTE\",\"VENT\",\"TERRAIN\",\"TERRIN\",\"TERAIN\",\"FONCIER\",\"ACHETER\",\"ACHETE\"]"
   ]
  },
  {
   "cell_type": "code",
   "execution_count": 7,
   "metadata": {},
   "outputs": [],
   "source": [
    "from unidecode import unidecode\n",
    "import re\n",
    "import codecs\n",
    "def nettoyage(compltexte):\n",
    "    compltexte=str(compltexte)\n",
    "    compltexte = compltexte.replace(\"*\", \"\")\n",
    "    compltexte = compltexte.replace(\",\", \"\")\n",
    "    compltexte = compltexte.replace(\".\", \"\")\n",
    "    compltexte = re.sub(r\"[^\\w\\s]\", \" \", compltexte) # supprime les caractères spéciaux et symboles\n",
    "    listMot = compltexte.split() \n",
    "    listMot = [mot.upper() for mot in listMot]\n",
    "    listMot = [unidecode(mot) for mot in listMot]\n",
    "    return listMot\n",
    "\n",
    "    \n"
   ]
  },
  {
   "cell_type": "code",
   "execution_count": 8,
   "metadata": {},
   "outputs": [],
   "source": [
    "\n",
    "def first(postText):\n",
    "    listTraite = nettoyage(postText)\n",
    "    val=[]\n",
    "    for mot in listTraite:\n",
    "            if mot in motCleLocationValide:\n",
    "                val= listTraite                \n",
    "            elif mot in motCleLocationExclu:\n",
    "                val=  []\n",
    "            else:\n",
    "                val= listTraite\n",
    "    return val\n",
    "\n",
    "        "
   ]
  },
  {
   "cell_type": "code",
   "execution_count": 9,
   "metadata": {},
   "outputs": [],
   "source": [
    "database = pd.read_csv(\"../data/riviera_mpouto.csv\")"
   ]
  },
  {
   "cell_type": "code",
   "execution_count": 10,
   "metadata": {},
   "outputs": [],
   "source": [
    "database1 = pd.read_csv(\"../data/riviera.csv\") "
   ]
  },
  {
   "cell_type": "code",
   "execution_count": 11,
   "metadata": {},
   "outputs": [],
   "source": [
    "database2 = pd.read_csv(\"../data/mpouto.csv\") "
   ]
  },
  {
   "cell_type": "code",
   "execution_count": 12,
   "metadata": {},
   "outputs": [],
   "source": [
    "def traitement(database,localite):\n",
    "    format = '%Y-%m-%d %H:%M:%S'\n",
    "    baseFinal =[]\n",
    "    for ligne in range(database.shape[0]):\n",
    "        nuplet = database.iloc[ligne,:]\n",
    "        publicationOk=first(nuplet[\"post_text\"])\n",
    "        if len(publicationOk) !=0:    \n",
    "            typeM= typeMaison(publicationOk,immeuble_sac_mot,villa_sac_mot)\n",
    "            piece = montant_loyer_piece(piece_sac_mot,publicationOk)\n",
    "            montant = montant_loyer_piece(montant_loyer_sac_mot,publicationOk)\n",
    "            if len(typeM)==1 and len(piece)==1 and len(montant)==1:\n",
    "                ligneAEcricre = {}\n",
    "                ligneAEcricre[\"username\"] = nuplet[\"username\"]\n",
    "                ligneAEcricre[\"post_url\"] = nuplet[\"post_url\"]\n",
    "                temps = datetime.strptime(str(nuplet[\"time\"]),format)\n",
    "                ligneAEcricre[\"jour\"] = temps.day\n",
    "                ligneAEcricre[\"imageMaisonLien\"] = nuplet[\"images_lowquality\"]\n",
    "                ligneAEcricre[\"mois\"] = temps.month\n",
    "                ligneAEcricre[\"annee\"] = temps.year\n",
    "                ligneAEcricre[\"localite\"] = localite\n",
    "                ligneAEcricre[\"type\"] = list(typeM.values())[0]\n",
    "                ligneAEcricre[\"montant\"] = list(montant.values())[0]\n",
    "                ligneAEcricre[\"nbPiece\"] = list(piece.values())[0]\n",
    "                baseFinal.append(ligneAEcricre)\n",
    "            if len(typeM)==0 and len(piece)==1 and len(montant)==1:\n",
    "                ligneAEcricre = {}\n",
    "                ligneAEcricre[\"username\"] = nuplet[\"username\"]\n",
    "                ligneAEcricre[\"post_url\"] = nuplet[\"post_url\"]\n",
    "                temps = datetime.strptime(str(nuplet[\"time\"]),format)\n",
    "                ligneAEcricre[\"jour\"] = temps.day\n",
    "                ligneAEcricre[\"mois\"] = temps.month\n",
    "                ligneAEcricre[\"annee\"] = temps.year\n",
    "                ligneAEcricre[\"imageMaisonLien\"] = nuplet[\"images_lowquality\"]\n",
    "                ligneAEcricre[\"localite\"] = localite\n",
    "                ligneAEcricre[\"type\"] = \"\"\n",
    "                ligneAEcricre[\"montant\"] =list( montant.values())[0]\n",
    "                ligneAEcricre[\"nbPiece\"] = list(piece.values())[0]\n",
    "                baseFinal.append(ligneAEcricre)\n",
    "            if len(typeM)>1 and len(piece)>1 and len(montant)>1:\n",
    "                for ii in range(min([len(typeM),len(piece),len(montant)])):\n",
    "                    ligneAEcricre = {}\n",
    "                    ligneAEcricre[\"username\"] = nuplet[\"username\"]\n",
    "                    ligneAEcricre[\"post_url\"] = nuplet[\"post_url\"]\n",
    "                    temps = datetime.strptime(str(nuplet[\"time\"]),format)\n",
    "                    ligneAEcricre[\"jour\"] = temps.day\n",
    "                    ligneAEcricre[\"mois\"] = temps.month\n",
    "                    ligneAEcricre[\"annee\"] = temps.year\n",
    "                    ligneAEcricre[\"imageMaisonLien\"] = nuplet[\"images_lowquality\"]\n",
    "                    ligneAEcricre[\"localite\"] = localite\n",
    "                    ligneAEcricre[\"type\"] = list(typeM.values())[ii]\n",
    "                    ligneAEcricre[\"montant\"] = list(montant.values())[ii]\n",
    "                    ligneAEcricre[\"type\"] = list(typeM.values())[ii]\n",
    "                    baseFinal.append(ligneAEcricre) \n",
    "        \n",
    "    return pd.DataFrame(baseFinal).to_csv(\"../data/baseFinale_\"+localite+\".csv\") \n",
    "\n",
    "        \n",
    "            \n"
   ]
  },
  {
   "cell_type": "code",
   "execution_count": 22,
   "metadata": {},
   "outputs": [],
   "source": [
    "traitement(database,\"riviera m'pouto\") \n",
    "traitement(database1,\"riviera\")  "
   ]
  },
  {
   "cell_type": "code",
   "execution_count": 13,
   "metadata": {},
   "outputs": [],
   "source": [
    "traitement(database1,\"m'pouto\")"
   ]
  }
 ],
 "metadata": {
  "kernelspec": {
   "display_name": "Python 3",
   "language": "python",
   "name": "python3"
  },
  "language_info": {
   "codemirror_mode": {
    "name": "ipython",
    "version": 3
   },
   "file_extension": ".py",
   "mimetype": "text/x-python",
   "name": "python",
   "nbconvert_exporter": "python",
   "pygments_lexer": "ipython3",
   "version": "3.8.10"
  },
  "orig_nbformat": 4,
  "vscode": {
   "interpreter": {
    "hash": "916dbcbb3f70747c44a77c7bcd40155683ae19c65e1c03b4aa3499c5328201f1"
   }
  }
 },
 "nbformat": 4,
 "nbformat_minor": 2
}
